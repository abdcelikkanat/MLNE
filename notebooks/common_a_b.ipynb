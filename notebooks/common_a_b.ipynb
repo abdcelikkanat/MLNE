{
 "cells": [
  {
   "cell_type": "markdown",
   "metadata": {
    "collapsed": true
   },
   "source": [
    "### MLNE: Multi-layer Node Embeddings\n"
   ]
  },
  {
   "cell_type": "markdown",
   "metadata": {},
   "source": [
    "For a given a set of matrices $\\mathbf{M}:=\\{M_l\\}_{1\\leq l \\leq L}$, the objective function is defined by\n",
    "\n",
    "$$\n",
    "f(\\mathbf{A}, \\mathbf{B}) = \\frac{1}{2}\\sum_{l=1}^{L}|| M_l - \\mathbf{A}\\mathbf{B} ||^2  + \\frac{\\alpha}{2}|| \\mathbf{A} ||^2 + \\frac{\\beta}{2}|| \\mathbf{B} ||^2\n",
    "$$"
   ]
  },
  {
   "cell_type": "code",
   "execution_count": 1,
   "metadata": {},
   "outputs": [
    {
     "name": "stdout",
     "output_type": "stream",
     "text": [
      "Using cpu device\n"
     ]
    }
   ],
   "source": [
    "import torch\n",
    "from torch import nn\n",
    "from torch.utils.data import DataLoader\n",
    "from torchvision import datasets\n",
    "from torchvision.transforms import ToTensor, Lambda, Compose\n",
    "import matplotlib.pyplot as plt\n",
    "import numpy as np\n",
    "from examples.mf_reg_common_a_b import *"
   ]
  },
  {
   "cell_type": "code",
   "execution_count": 2,
   "metadata": {},
   "outputs": [
    {
     "data": {
      "image/png": "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\n",
      "text/plain": [
       "<Figure size 432x288 with 1 Axes>"
      ]
     },
     "metadata": {
      "needs_background": "light"
     },
     "output_type": "display_data"
    },
    {
     "name": "stdout",
     "output_type": "stream",
     "text": [
      "Total Loss: 130.0595245361328\n"
     ]
    }
   ],
   "source": [
    "### Definition of the model parameters ###\n",
    "seed = 500 # seed\n",
    "num = 16 # number of elements\n",
    "L = 2  # number of layers\n",
    "dim = 16 # embedding size\n",
    "numOfEpochs = 100 # number of epocs\n",
    "learning_rate = 1e-1 # learning rate\n",
    "l2_reg_coeff = 1e-2 # regularization term coefficient for l2\n",
    "##########################################\n",
    "\n",
    "# Set the seed value\n",
    "np.random.seed(seed)\n",
    "\n",
    "# Construct the input matrix\n",
    "#M = np.random.randint(low=0, high=2, size=(L, num, num))\n",
    "M = np.zeros(shape=(L, num, num))\n",
    "for i in range(num):\n",
    "  for j in range(i+1, num):\n",
    "    M[0, i, j] = 1\n",
    "    M[1, j, i] = 1\n",
    "\n",
    "\n",
    "# Convert the input matrix to tensor\n",
    "M = torch.from_numpy(M)\n",
    "\n",
    "# Define the model, loss function and the optimizer\n",
    "model = MatrixFactorization(dim=dim, num=num)\n",
    "loss_func = torch.nn.MSELoss()\n",
    "#optimizer = torch.optim.ASGD(model.parameters(), lr=learning_rate, weight_decay=l2_reg_coeff)\n",
    "optimizer = torch.optim.Adagrad(model.parameters(), lr=learning_rate, weight_decay=l2_reg_coeff)\n",
    "\n",
    "\n",
    "# Train the model\n",
    "lossList = train(M, numOfEpochs, model, optimizer, loss_func)\n",
    "\n",
    "# Plot the learning curve\n",
    "plt.figure()\n",
    "plt.plot(range(numOfEpochs), lossList, 'r.')\n",
    "plt.xlabel('Number of epochs')\n",
    "plt.ylabel('Loss')\n",
    "plt.show()\n",
    "\n",
    "idxList = torch.tensor([ [l, i, j] for l in range(M.shape[0]) for i in range(M.shape[1]) for j in range(M.shape[2]) ])\n",
    "currentLoss = computeCurrentLoss(loss_func, M, idxList, model)\n",
    "print("Total Loss:" currentLoss)\n",
    "\n",
    "# Print the reconstructed matrix\n",
    "modelParams = list(model.parameters())\n",
    "A_pred = modelParams[0].detach().numpy()\n",
    "B_pred = modelParams[1].detach().numpy()\n",
    "\n",
    "C = np.dot(A_pred, B_pred.T)\n",
    "#print(C)"
   ]
  },
  {
   "cell_type": "code",
   "execution_count": 5,
   "metadata": {},
   "outputs": [
    {
     "data": {
      "image/png": "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\n",
      "text/plain": [
       "<Figure size 432x288 with 3 Axes>"
      ]
     },
     "metadata": {
      "needs_background": "light"
     },
     "output_type": "display_data"
    }
   ],
   "source": [
    "# Plot the input matrix\n",
    "plt.figure()\n",
    "\n",
    "for l in range(L):\n",
    "  plt.subplot(2, L, l+1)\n",
    "  plt.imshow(M[l, :, :], cmap='gray')\n",
    "  if l == 0 : plt.ylabel('Original') \n",
    "\n",
    "plt.subplot(2, L, 3)\n",
    "plt.imshow(C, cmap='gray')\n",
    "plt.ylabel('Reconstructed')\n",
    "plt.show()"
   ]
  },
  {
   "cell_type": "code",
   "execution_count": null,
   "metadata": {},
   "outputs": [],
   "source": []
  }
 ],
 "metadata": {
  "kernelspec": {
   "display_name": "Python 3",
   "language": "python",
   "name": "python3"
  },
  "language_info": {
   "codemirror_mode": {
    "name": "ipython",
    "version": 3
   },
   "file_extension": ".py",
   "mimetype": "text/x-python",
   "name": "python",
   "nbconvert_exporter": "python",
   "pygments_lexer": "ipython3",
   "version": "3.9.5"
  }
 },
 "nbformat": 4,
 "nbformat_minor": 1
}
