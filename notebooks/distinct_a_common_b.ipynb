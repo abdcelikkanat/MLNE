{
 "cells": [
  {
   "cell_type": "markdown",
   "metadata": {
    "collapsed": true
   },
   "source": [
    "### MLNE: Multi-layer Node Embeddings\n"
   ]
  },
  {
   "cell_type": "markdown",
   "metadata": {},
   "source": [
    "For a given a set of matrices $\\mathbf{M}:=\\{M_l\\}_{1\\leq l \\leq L}$, the objective function is defined by\n",
    "\n",
    "$$\n",
    "f(\\mathbf{A}_1,\\ldots, \\mathbf{A}_L, \\mathbf{B}) = \\sum_{l=1}^{L}|| M_l - \\mathbf{A}_l\\mathbf{B} ||  + \\sum_{l=1}^L\\alpha|| \\mathbf{A}_l ||^2  + \\beta|| \\mathbf{B} ||^2\n",
    "$$"
   ]
  },
  {
   "cell_type": "code",
   "execution_count": 6,
   "metadata": {},
   "outputs": [],
   "source": [
    "import torch\n",
    "from torch import nn\n",
    "from torch.utils.data import DataLoader\n",
    "from torchvision import datasets\n",
    "from torchvision.transforms import ToTensor, Lambda, Compose\n",
    "import matplotlib.pyplot as plt\n",
    "import numpy as np\n",
    "from libs.mf_reg_distinct_a_common_b import *"
   ]
  },
  {
   "cell_type": "code",
   "execution_count": 7,
   "metadata": {},
   "outputs": [
    {
     "data": {
      "image/png": "[encoded data removed]",
      "text/plain": [
       "<Figure size 432x288 with 1 Axes>"
      ]
     },
     "metadata": {
      "needs_background": "light"
     },
     "output_type": "display_data"
    },
    {
     "name": "stdout",
     "output_type": "stream",
     "text": [
      "Total Loss: 37.19437026977539\n"
     ]
    }
   ],
   "source": [
    "### Definition of the model parameters ###\n",
    "seed = 500 # seed\n",
    "num = 16 # number of elements\n",
    "L = 2  # number of layers\n",
    "dim = 16 # embedding size\n",
    "numOfEpochs = 100 # number of epocs\n",
    "learning_rate = 1e-1 # learning rate\n",
    "l2_reg_coeff = 1e-2 # regularization term coefficient for l2\n",
    "##########################################\n",
    "\n",
    "# Set the seed value\n",
    "np.random.seed(seed)\n",
    "\n",
    "# Construct the input matrix\n",
    "#M = np.random.randint(low=0, high=2, size=(L, num, num))\n",
    "M = np.zeros(shape=(L, num, num))\n",
    "for i in range(num):\n",
    "  for j in range(i+1, num):\n",
    "    M[0, i, j] = 1\n",
    "    M[1, j, i] = 1\n",
    "\n",
    "\n",
    "# Convert the input matrix to tensor\n",
    "M = torch.from_numpy(M)\n",
    "\n",
    "# Define the model, loss function and the optimizer\n",
    "model = MatrixFactorization(num, dim=dim, numOfLayers=L)\n",
    "loss_func = torch.nn.MSELoss()\n",
    "#optimizer = torch.optim.ASGD(model.parameters(), lr=learning_rate, weight_decay=l2_reg_coeff)\n",
    "optimizer = torch.optim.Adagrad(model.parameters(), lr=learning_rate, weight_decay=l2_reg_coeff)\n",
    "\n",
    "\n",
    "# Train the model\n",
    "lossList = train(M, numOfEpochs, model, optimizer, loss_func)\n",
    "\n",
    "# Plot the learning curve\n",
    "plt.figure()\n",
    "plt.plot(range(numOfEpochs), lossList, 'r.')\n",
    "plt.xlabel('Number of epochs')\n",
    "plt.ylabel('Loss')\n",
    "plt.show()\n",
    "\n",
    "idxList = torch.tensor([ [l, i, j] for l in range(M.shape[0]) for i in range(M.shape[1]) for j in range(M.shape[2]) ])\n",
    "currentLoss = computeCurrentLoss(loss_func, M, idxList, model)\n",
    "print(f\"Total Loss: {currentLoss}\")\n",
    "\n",
    "# Print the reconstructed matrix\n",
    "modelParams = list(model.parameters())\n",
    "A_pred = modelParams[0].detach().numpy()\n",
    "B_pred = modelParams[1].detach().numpy()\n",
    "\n",
    "C = np.dot(A_pred, B_pred.T)\n",
    "#print(C)"
   ]
  },
  {
   "cell_type": "code",
   "execution_count": 10,
   "metadata": {},
   "outputs": [
    {
     "data": {
      "image/png": "[encoded data removed]",
      "text/plain": [
       "<Figure size 432x288 with 4 Axes>"
      ]
     },
     "metadata": {
      "needs_background": "light"
     },
     "output_type": "display_data"
    }
   ],
   "source": [
    "# Plot the input matrix\n",
    "plt.figure()\n",
    "\n",
    "for l in range(L):\n",
    "  plt.subplot(2, L, l+1)\n",
    "  plt.imshow(M[l, :, :], cmap='gray')\n",
    "  if l == 0 : plt.ylabel('Original') \n",
    "\n",
    "for l in range(L):\n",
    "  plt.subplot(2, L, L+l+1)\n",
    "  plt.imshow(C[num*l:num*(l+1), :], cmap='gray')\n",
    "  if l == 0 : plt.ylabel('Reconstructed')\n",
    "plt.show()"
   ]
  },
  {
   "cell_type": "code",
   "execution_count": null,
   "metadata": {},
   "outputs": [],
   "source": []
  }
 ],
 "metadata": {
  "kernelspec": {
   "display_name": "Python 3",
   "language": "python",
   "name": "python3"
  },
  "language_info": {
   "codemirror_mode": {
    "name": "ipython",
    "version": 3
   },
   "file_extension": ".py",
   "mimetype": "text/x-python",
   "name": "python",
   "nbconvert_exporter": "python",
   "pygments_lexer": "ipython3",
   "version": "3.9.5"
  }
 },
 "nbformat": 4,
 "nbformat_minor": 1
}
